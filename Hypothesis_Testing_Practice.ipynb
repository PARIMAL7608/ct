{
 "cells": [
  {
   "cell_type": "code",
   "execution_count": 1,
   "id": "706c9474",
   "metadata": {},
   "outputs": [],
   "source": [
    "import pandas as pd\n",
    "import numpy as np\n",
    "import matplotlib.pyplot as plt\n",
    "import seaborn as sns\n",
    "import scipy.stats as stats "
   ]
  },
  {
   "cell_type": "code",
   "execution_count": 3,
   "id": "a77c5691",
   "metadata": {
    "scrolled": true
   },
   "outputs": [],
   "source": [
    "# np.random.randint(80,200,20)"
   ]
  },
  {
   "cell_type": "code",
   "execution_count": 4,
   "id": "5a9ae8c7",
   "metadata": {},
   "outputs": [],
   "source": [
    "# Ho : mu = 150\n",
    "# Ha : mu != 150"
   ]
  },
  {
   "cell_type": "code",
   "execution_count": 12,
   "id": "115a382f",
   "metadata": {},
   "outputs": [],
   "source": [
    "samples_20 = [160,  95, 104, 185, 112, 121, 155, 179, 117, 186, 175, 175, 138,\n",
    "               149,  85,  92, 111,  84, 191, 109]\n",
    "x_bar = np.mean(samples_20)\n",
    "s = np.std(samples_20,ddof=1)\n",
    "n = len(samples_20)\n",
    "mu = 150"
   ]
  },
  {
   "cell_type": "code",
   "execution_count": 15,
   "id": "0f42aec0",
   "metadata": {},
   "outputs": [
    {
     "name": "stdout",
     "output_type": "stream",
     "text": [
      "-1.66201067189226\n",
      "0.11292104545119505\n"
     ]
    }
   ],
   "source": [
    "t_stat = (x_bar-mu)/(s/np.sqrt(n))\n",
    "print(t_stat)\n",
    "pval = stats.t.cdf(t_stat,df=n-1)*2\n",
    "print(pval)"
   ]
  },
  {
   "cell_type": "code",
   "execution_count": 16,
   "id": "2be58af7",
   "metadata": {},
   "outputs": [
    {
     "data": {
      "text/plain": [
       "Ttest_1sampResult(statistic=-1.66201067189226, pvalue=0.11292104545119505)"
      ]
     },
     "execution_count": 16,
     "metadata": {},
     "output_type": "execute_result"
    }
   ],
   "source": [
    "stats.ttest_1samp(samples_20,popmean=150)"
   ]
  },
  {
   "cell_type": "code",
   "execution_count": 17,
   "id": "ea41025d",
   "metadata": {},
   "outputs": [],
   "source": [
    "# pval = 0.11\n",
    "# sig lvl = 0.05\n",
    "# pval > sig lvl\n",
    "# Ho is accepeted\n",
    "# The avg weight of the product is 150 grams."
   ]
  },
  {
   "cell_type": "code",
   "execution_count": 18,
   "id": "ee76d229",
   "metadata": {},
   "outputs": [],
   "source": [
    "# Ho : Avg sal of str1 = Avg sal of str2(mu1= mu2)\n",
    "# Ha : Avg sal of str1 != Avg sal of str2(mu1!= mu2)"
   ]
  },
  {
   "cell_type": "code",
   "execution_count": 24,
   "id": "7e1ec373",
   "metadata": {},
   "outputs": [],
   "source": [
    "sample_1 = [1367, 1976, 2383, 2707, 2539, 1775, 2184, 1190, 1324, 2807, 1607,\n",
    "       2837, 1228, 1868, 1983, 1423, 1939, 2672, 2038, 2754, 2567, 2820,\n",
    "       2375, 2649, 1349, 2878, 2027, 1703, 2924, 1788, 2711, 1386, 1242,\n",
    "       2194, 2021, 2088, 1453, 2127, 2583, 2338, 2031, 1886, 1761, 2207,\n",
    "       1955, 1237, 2011, 2922, 2300, 1836]\n",
    "sample_2 = [3533, 4000, 4455, 4223, 3203, 4314, 4427, 3898, 4350, 3485, 3931,\n",
    "       3428, 3834, 4137, 3954, 3053, 3526, 4050, 3023, 4567, 3486, 3573,\n",
    "       3968, 4965, 4422, 4871, 4921, 3436, 4420, 4905, 3838, 4422, 3986,\n",
    "       3557, 3344, 4327, 4917, 4010, 3640, 4814, 3679, 4066, 4065, 4581,\n",
    "       4306, 4353, 4333, 4924, 4414, 3997]"
   ]
  },
  {
   "cell_type": "code",
   "execution_count": 29,
   "id": "386d9d96",
   "metadata": {},
   "outputs": [
    {
     "data": {
      "text/plain": [
       "Ttest_indResult(statistic=-19.227733700161586, pvalue=4.972202605214336e-35)"
      ]
     },
     "execution_count": 29,
     "metadata": {},
     "output_type": "execute_result"
    }
   ],
   "source": [
    "stats.ttest_ind(sample_1,sample_2)  # unpaired ttest"
   ]
  },
  {
   "cell_type": "code",
   "execution_count": 26,
   "id": "e6e617d6",
   "metadata": {},
   "outputs": [],
   "source": [
    "# pval = 0\n",
    "# pval < sig lvl\n",
    "# Ho is rejected i.e Ha is selected\n",
    "# Sales of two companies are different"
   ]
  },
  {
   "cell_type": "code",
   "execution_count": 28,
   "id": "f47320f3",
   "metadata": {},
   "outputs": [],
   "source": [
    "# ttest_rel - paired ttest (paired samples)"
   ]
  },
  {
   "cell_type": "code",
   "execution_count": 34,
   "id": "cbce2ab6",
   "metadata": {},
   "outputs": [],
   "source": [
    "# Ho : Avg sales all the stores are same\n",
    "# Ha :  Atleast avg sales of one store is different."
   ]
  },
  {
   "cell_type": "code",
   "execution_count": 33,
   "id": "a014d105",
   "metadata": {},
   "outputs": [],
   "source": [
    "sample_1 = [1367, 1976, 2383, 2707, 2539, 1775, 2184, 1190, 1324, 2807, 1607,\n",
    "       2837, 1228, 1868, 1983, 1423, 1939, 2672, 2038, 2754, 2567, 2820,\n",
    "       2375, 2649, 1349, 2878, 2027, 1703, 2924, 1788, 2711, 1386, 1242,\n",
    "       2194, 2021, 2088, 1453, 2127, 2583, 2338, 2031, 1886, 1761, 2207,\n",
    "       1955, 1237, 2011, 2922, 2300, 1836]\n",
    "sample_2 = [3533, 4000, 4455, 4223, 3203, 4314, 4427, 3898, 4350, 3485, 3931,\n",
    "       3428, 3834, 4137, 3954, 3053, 3526, 4050, 3023, 4567, 3486, 3573,\n",
    "       3968, 4965, 4422, 4871, 4921, 3436, 4420, 4905, 3838, 4422, 3986,\n",
    "       3557, 3344, 4327, 4917, 4010, 3640, 4814, 3679, 4066, 4065, 4581,\n",
    "       4306, 4353, 4333, 4924, 4414, 3997]\n",
    "sample_3 = [3615, 3649, 2171, 3863, 3869, 3333, 3301, 2215, 2002, 3861, 2716,\n",
    "       2520, 3548, 3700, 3202, 2922, 3170, 3976, 3810, 2831, 2027, 3440,\n",
    "       3570, 2326, 3803, 3762, 3892, 2442, 2357, 3133, 2658, 2763, 3576,\n",
    "       2228, 3491, 3837, 3125, 3779, 2419, 2355, 3711, 2315, 3380, 3806,\n",
    "       3766, 2065, 2866, 3132, 3435, 3504]"
   ]
  },
  {
   "cell_type": "code",
   "execution_count": 35,
   "id": "2a4f4c44",
   "metadata": {},
   "outputs": [
    {
     "data": {
      "text/plain": [
       "F_onewayResult(statistic=161.27105605689025, pvalue=8.506379196956481e-38)"
      ]
     },
     "execution_count": 35,
     "metadata": {},
     "output_type": "execute_result"
    }
   ],
   "source": [
    "stats.f_oneway(sample_1,sample_2,sample_3)"
   ]
  },
  {
   "cell_type": "code",
   "execution_count": 36,
   "id": "f536eded",
   "metadata": {},
   "outputs": [],
   "source": [
    "# pval = 0\n",
    "# pval < sig lvl\n",
    "# Ho is rejected i.e Ha is selected\n",
    "#  Atleast avg sales of one store is different."
   ]
  },
  {
   "cell_type": "code",
   "execution_count": 37,
   "id": "3ced2937",
   "metadata": {},
   "outputs": [
    {
     "data": {
      "image/png": "[encoded data removed]",
      "text/plain": [
       "<Figure size 432x288 with 1 Axes>"
      ]
     },
     "metadata": {
      "needs_background": "light"
     },
     "output_type": "display_data"
    }
   ],
   "source": [
    "sns.kdeplot(sample_1)\n",
    "sns.kdeplot(sample_2)\n",
    "sns.kdeplot(sample_3)\n",
    "plt.show()"
   ]
  },
  {
   "cell_type": "code",
   "execution_count": 39,
   "id": "35c46f81",
   "metadata": {},
   "outputs": [],
   "source": [
    "# Ho : O=E\n",
    "# Ha : O !=E"
   ]
  },
  {
   "cell_type": "code",
   "execution_count": 40,
   "id": "71b87bf6",
   "metadata": {},
   "outputs": [
    {
     "data": {
      "text/plain": [
       "Power_divergenceResult(statistic=0.4666666666666667, pvalue=0.4945246678838707)"
      ]
     },
     "execution_count": 40,
     "metadata": {},
     "output_type": "execute_result"
    }
   ],
   "source": [
    "obs = [17,18] # Event outcome\n",
    "exp  = [15,20] # Teacher expectation\n",
    "stats.chisquare(f_exp=exp,f_obs =obs)"
   ]
  },
  {
   "cell_type": "code",
   "execution_count": 41,
   "id": "964a7d5c",
   "metadata": {},
   "outputs": [],
   "source": [
    "# pval> sig lvl\n",
    "# Ho is accepted"
   ]
  },
  {
   "cell_type": "code",
   "execution_count": 54,
   "id": "0656b3b6",
   "metadata": {},
   "outputs": [],
   "source": [
    "gender = pd.Series(['M']*5+ ['F']*5)\n",
    "grad = pd.Series(['ug','ug','ug','pg','pg','pg','pg','pg','pg','ug'])\n",
    "tab = pd.crosstab(gender,grad)"
   ]
  },
  {
   "cell_type": "code",
   "execution_count": 55,
   "id": "6d885a5a",
   "metadata": {},
   "outputs": [
    {
     "data": {
      "text/plain": [
       "(0.41666666666666663,\n",
       " 0.5186050164287255,\n",
       " 1,\n",
       " array([[3., 2.],\n",
       "        [3., 2.]]))"
      ]
     },
     "execution_count": 55,
     "metadata": {},
     "output_type": "execute_result"
    }
   ],
   "source": [
    "stats.chi2_contingency(tab)"
   ]
  },
  {
   "cell_type": "code",
   "execution_count": 56,
   "id": "23b805e7",
   "metadata": {},
   "outputs": [],
   "source": [
    "# pval= 0.5186050164287255\n",
    "# pval> sig lvl\n",
    "# Two categorical features are independant (not related)"
   ]
  },
  {
   "cell_type": "code",
   "execution_count": null,
   "id": "f2abf80e",
   "metadata": {},
   "outputs": [],
   "source": []
  }
 ],
 "metadata": {
  "kernelspec": {
   "display_name": "Python 3 (ipykernel)",
   "language": "python",
   "name": "python3"
  },
  "language_info": {
   "codemirror_mode": {
    "name": "ipython",
    "version": 3
   },
   "file_extension": ".py",
   "mimetype": "text/x-python",
   "name": "python",
   "nbconvert_exporter": "python",
   "pygments_lexer": "ipython3",
   "version": "3.9.7"
  }
 },
 "nbformat": 4,
 "nbformat_minor": 5
}
