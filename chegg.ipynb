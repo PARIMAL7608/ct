{
 "cells": [
  {
   "cell_type": "code",
   "execution_count": 110,
   "metadata": {},
   "outputs": [],
   "source": [
    "import pandas as pd\n",
    "import numpy as np\n",
    "import matplotlib.pyplot as plt\n",
    "%matplotlib inline"
   ]
  },
  {
   "cell_type": "code",
   "execution_count": 111,
   "metadata": {},
   "outputs": [
    {
     "name": "stdout",
     "output_type": "stream",
     "text": [
      "(100, 3)\n",
      "[[34.62365962 78.02469282  0.        ]\n",
      " [30.28671077 43.89499752  0.        ]\n",
      " [35.84740877 72.90219803  0.        ]\n",
      " [60.18259939 86.3085521   1.        ]\n",
      " [79.03273605 75.34437644  1.        ]]\n"
     ]
    }
   ],
   "source": [
    "data = np.loadtxt('C:/Users/HP/Desktop/abc.txt',delimiter=',')\n",
    "print(data.shape)\n",
    "print(data[:5,:])"
   ]
  },
  {
   "cell_type": "code",
   "execution_count": 112,
   "metadata": {},
   "outputs": [
    {
     "name": "stdout",
     "output_type": "stream",
     "text": [
      "(100, 2)\n",
      "(100,)\n"
     ]
    }
   ],
   "source": [
    "X = data[:, :2]\n",
    "y = data[:, -1]\n",
    "print(X.shape)\n",
    "print(y.shape)"
   ]
  },
  {
   "cell_type": "code",
   "execution_count": 113,
   "metadata": {},
   "outputs": [
    {
     "data": {
      "text/plain": [
       "<matplotlib.legend.Legend at 0x21f8a1a5df0>"
      ]
     },
     "execution_count": 113,
     "metadata": {},
     "output_type": "execute_result"
    },
    {
     "data": {
      "image/png": "[encoded data removed]",
      "text/plain": [
       "<Figure size 432x288 with 1 Axes>"
      ]
     },
     "metadata": {
      "needs_background": "light"
     },
     "output_type": "display_data"
    }
   ],
   "source": [
    "pos, neg =  (y == 1).reshape (100,1), (y==0).reshape (100,1) \n",
    "plt.scatter(X[pos[:,0],0], X[pos [:,0], 1],c=\"r\",marker=\"+\") \n",
    "plt.scatter(X[neg[:,0],0], X[neg[:,0], 1],marker=\"o\",s=10) \n",
    "plt.xlabel(\"Exam 1 score\") \n",
    "plt.ylabel(\"Exan 2 score\")\n",
    "plt.legend( [\"Admitted\", \"Not admitted\"], loc=0)"
   ]
  },
  {
   "cell_type": "code",
   "execution_count": 114,
   "metadata": {},
   "outputs": [],
   "source": [
    "def featureNormalization(X):\n",
    "    mean = np.mean(X,axis=0)\n",
    "    std = np.std(X,axis=0)\n",
    "    X_norm = (X-mean)/std\n",
    "    return X_norm,mean,std"
   ]
  },
  {
   "cell_type": "code",
   "execution_count": 115,
   "metadata": {},
   "outputs": [
    {
     "name": "stdout",
     "output_type": "stream",
     "text": [
      "(3, 100)\n",
      "[[ 1.          1.          1.          1.          1.        ]\n",
      " [-1.60224763 -1.82625564 -1.53903969 -0.28210129  0.69152826]\n",
      " [ 0.63834112 -1.2075414   0.3612943   1.0863683   0.49337794]]\n",
      "(1, 100)\n"
     ]
    }
   ],
   "source": [
    "# get number of training examples N= data.shape [0] # should be 100 for this data\n",
    "N = data.shape[0]\n",
    "# normalize the features\n",
    "\n",
    "X_norm, X_mean, X_std = featureNormalization(X)\n",
    "\n",
    "# stack np.ones((1, N)) to X_form's transpose (2, 100) #to get X_new with dimension (3, 100) ones np.ones ((1, N))\n",
    "ones = np.ones((1,N))\n",
    "X_new=np.vstack((ones, X_norm.T))\n",
    "\n",
    "y = data[:, -1].reshape(1, N)\n",
    "\n",
    "print (X_new.shape)\n",
    "\n",
    "print (X_new[:, :5])\n",
    "\n",
    "print(y.shape)"
   ]
  },
  {
   "cell_type": "markdown",
   "metadata": {},
   "source": [
    "## 2.Define sigmoid function"
   ]
  },
  {
   "cell_type": "code",
   "execution_count": 116,
   "metadata": {},
   "outputs": [],
   "source": [
    "def sigmoid(x):\n",
    "    s = 1/(1 + np.exp(-x))\n",
    "    return s\n"
   ]
  },
  {
   "cell_type": "code",
   "execution_count": 117,
   "metadata": {},
   "outputs": [
    {
     "data": {
      "text/plain": [
       "array([0.73105858, 0.88079708, 0.95257413])"
      ]
     },
     "execution_count": 117,
     "metadata": {},
     "output_type": "execute_result"
    }
   ],
   "source": [
    "x = np.array([1,2,3])\n",
    "sigmoid(x)"
   ]
  },
  {
   "cell_type": "markdown",
   "metadata": {},
   "source": [
    "# 3.Compute cost function and gradient"
   ]
  },
  {
   "cell_type": "code",
   "execution_count": 118,
   "metadata": {},
   "outputs": [],
   "source": [
    "def compute_cost(w,X,y):\n",
    "    N = y.shape[1]\n",
    "    E_w = 0\n",
    "    gradient = np.zeros(w.shape)\n",
    "    \n",
    "    h_w = sigmoid(np.dot(X.T, w))\n",
    "    E_w =  1/N * np.sum((-y * np.log(h_w)) + (-(1 - y) * np.log(1 - h_w)))\n",
    "\n",
    "    gradient = 1/N * np.dot(X, (h_w - y.T))\n",
    "    \n",
    "    return E_w,gradient"
   ]
  },
  {
   "cell_type": "code",
   "execution_count": 119,
   "metadata": {},
   "outputs": [
    {
     "name": "stdout",
     "output_type": "stream",
     "text": [
      "cost of initial w is  69.31471805599453\n",
      "gradient of initial w (zeros): [[-0.1       ]\n",
      " [-0.28122914]\n",
      " [-0.25098615]]\n"
     ]
    }
   ],
   "source": [
    "w = np.zeros((3,1))\n",
    "E_w,gradient = compute_cost(w,X_new,y)\n",
    "print(\"cost of initial w is \", E_w)\n",
    "print(\"gradient of initial w (zeros):\", gradient)"
   ]
  },
  {
   "cell_type": "markdown",
   "metadata": {},
   "source": [
    "## 4. Gradient Descent"
   ]
  },
  {
   "cell_type": "code",
   "execution_count": 120,
   "metadata": {},
   "outputs": [],
   "source": [
    "def gradient_descent(X,y,w,alpha,num_iters):\n",
    "    N = y.shape[1]\n",
    "    E_history = []\n",
    "    for i in range(num_iters):\n",
    "        E_w,grad = compute_cost(w,X,y)\n",
    "        h = np.dot(X,theta)\n",
    "        theta = theta - (alpha/m)*np.dot(X.T,(h-y))\n",
    "    return w,E_history"
   ]
  },
  {
   "cell_type": "markdown",
   "metadata": {},
   "source": [
    "## 5. plotting the Decision Boundary"
   ]
  },
  {
   "cell_type": "code",
   "execution_count": 121,
   "metadata": {},
   "outputs": [
    {
     "name": "stderr",
     "output_type": "stream",
     "text": [
      "<ipython-input-121-cf103178f9c8>:6: RuntimeWarning: invalid value encountered in true_divide\n",
      "  y_value= (w[0]+w[1]*x_value)/w[2]\n"
     ]
    },
    {
     "data": {
      "text/plain": [
       "<matplotlib.legend.Legend at 0x21f8a1f9af0>"
      ]
     },
     "execution_count": 121,
     "metadata": {},
     "output_type": "execute_result"
    },
    {
     "data": {
      "image/png": "[encoded data removed]",
      "text/plain": [
       "<Figure size 432x288 with 1 Axes>"
      ]
     },
     "metadata": {
      "needs_background": "light"
     },
     "output_type": "display_data"
    }
   ],
   "source": [
    "plt.scatter(X_norm[pos[:,0],0],X_norm[pos[:,0], 1],c=\"r\",marker=\"+\",label=\"Admitted\") \n",
    "plt.scatter(X_norm[neg[:,0],0],X_norm [neg[:,0],1],c=\"b\",marker=\"x\", label=\"Not admitted\")\n",
    "\n",
    "# Only need 2 points to define a line, so choose two endpoints \n",
    "x_value = np.array([np.min(X_norm[:,1]), np.max(X_norm[:,1])])\n",
    "y_value= (w[0]+w[1]*x_value)/w[2]\n",
    "\n",
    "plt.plot(x_value,y_value, \"g\")\n",
    "\n",
    "plt.xlabel(\"Exam 1 score\")\n",
    "\n",
    "plt.ylabel(\"Exam 2 score\")\n",
    "\n",
    "plt.legend(loc=0)"
   ]
  },
  {
   "cell_type": "markdown",
   "metadata": {},
   "source": [
    "## 6.Evaluating Logistic Regression Model"
   ]
  },
  {
   "cell_type": "code",
   "execution_count": 122,
   "metadata": {},
   "outputs": [],
   "source": [
    "def predict(w,X):\n",
    "    m = X.shape[0]\n",
    "    h_w = np.zeros(m)\n",
    "    h_w = sigmoid(np.dot(X.T, w)) >= 0.5   \n",
    "    return h_w"
   ]
  },
  {
   "cell_type": "code",
   "execution_count": 123,
   "metadata": {},
   "outputs": [
    {
     "name": "stdout",
     "output_type": "stream",
     "text": [
      "(2, 1)\n",
      "[[ 1.        ]\n",
      " [-1.06629865]\n",
      " [ 1.0155961 ]]\n",
      "For a student with scores 45 and 85, we predict an admission probability of 0.5\n"
     ]
    }
   ],
   "source": [
    "x_test=np.array([45,85]).reshape(1, 2)\n",
    "x_test=(x_test - X_mean) / X_std\n",
    "\n",
    "x_test_t=x_test.T\n",
    "\n",
    "print(x_test_t.shape)\n",
    "x_test_new = np.vstack((np.ones((1,1)), x_test_t))\n",
    "print(x_test_new)\n",
    "\n",
    "prob = sigmoid(w.T @ x_test_new)\n",
    "\n",
    "print(\"For a student with scores 45 and 85, we predict an admission probability of\",prob[0,0])"
   ]
  },
  {
   "cell_type": "code",
   "execution_count": 124,
   "metadata": {},
   "outputs": [
    {
     "name": "stdout",
     "output_type": "stream",
     "text": [
      "Train Accuracy: 60.0 %\n"
     ]
    }
   ],
   "source": [
    "train_pred = predict(w,X_new)\n",
    "print(\"Train Accuracy:\",np.mean(train_pred ==y)*100,\"%\")"
   ]
  },
  {
   "cell_type": "code",
   "execution_count": null,
   "metadata": {},
   "outputs": [],
   "source": []
  },
  {
   "cell_type": "code",
   "execution_count": null,
   "metadata": {},
   "outputs": [],
   "source": []
  }
 ],
 "metadata": {
  "kernelspec": {
   "display_name": "Python 3 (ipykernel)",
   "language": "python",
   "name": "python3"
  },
  "language_info": {
   "codemirror_mode": {
    "name": "ipython",
    "version": 3
   },
   "file_extension": ".py",
   "mimetype": "text/x-python",
   "name": "python",
   "nbconvert_exporter": "python",
   "pygments_lexer": "ipython3",
   "version": "3.9.7"
  }
 },
 "nbformat": 4,
 "nbformat_minor": 4
}
